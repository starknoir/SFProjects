{
 "cells": [
  {
   "cell_type": "code",
   "execution_count": 7,
   "metadata": {},
   "outputs": [
    {
     "name": "stdout",
     "output_type": "stream",
     "text": [
      "Загадано число от 1 до 100\n",
      "Вы угадали число 92 за 6 попыток.\n",
      "Ваш алгоритм угадывает число в среднем за 5 попыток.\n"
     ]
    }
   ],
   "source": [
    "import numpy as np\n",
    "predict_number = np.random.randint(1,101)\n",
    "print (f'Загадано число от 1 до 100')\n",
    "       \n",
    "def game_core(predict_number):\n",
    "    left = 1                                   \n",
    "    right = 100\n",
    "    count = 0\n",
    "    number = 0\n",
    "    while number != predict_number:\n",
    "        count += 1\n",
    "        number = (left+right)//2 \n",
    "        if number == predict_number:\n",
    "            break\n",
    "        elif number < predict_number:\n",
    "            left = number+1\n",
    "        else:\n",
    "            right = number-1\n",
    "    return count\n",
    "print (f'Вы угадали число {predict_number} за {game_core(predict_number)} попыток.')\n",
    "\n",
    "def game_count(game_core):\n",
    "    count_ls = []\n",
    "    np.random.seed(1)\n",
    "    random_array = np.random.randint (1,101,size=(1000))\n",
    "    for i in random_array:\n",
    "        count_ls.append(game_core(i))\n",
    "    result = int(np.mean(count_ls))\n",
    "    return result\n",
    "print (f'Ваш алгоритм угадывает число в среднем за {game_count(game_core)} попыток.')"
   ]
  },
  {
   "cell_type": "code",
   "execution_count": null,
   "metadata": {},
   "outputs": [],
   "source": []
  }
 ],
 "metadata": {
  "kernelspec": {
   "display_name": "Python 3",
   "language": "python",
   "name": "python3"
  },
  "language_info": {
   "codemirror_mode": {
    "name": "ipython",
    "version": 3
   },
   "file_extension": ".py",
   "mimetype": "text/x-python",
   "name": "python",
   "nbconvert_exporter": "python",
   "pygments_lexer": "ipython3",
   "version": "3.8.5"
  }
 },
 "nbformat": 4,
 "nbformat_minor": 4
}
